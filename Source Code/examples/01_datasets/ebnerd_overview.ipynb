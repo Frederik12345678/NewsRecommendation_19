{
 "cells": [
  {
   "cell_type": "markdown",
   "metadata": {},
   "source": [
    "# Getting started with the EB-NeRD"
   ]
  },
  {
   "cell_type": "code",
   "execution_count": 1,
   "metadata": {},
   "outputs": [],
   "source": [
    "from pathlib import Path\n",
    "import polars as pl\n",
    "\n",
    "import sys\n",
    "sys.path.append(\"/Users/frederiknagel/Desktop/NewsRecommendation_19\")\n",
    "\n",
    "from src.ebrec.utils._descriptive_analysis import (\n",
    "    min_max_impression_time_behaviors,\n",
    "    min_max_impression_time_history,\n",
    ")\n",
    "from src.ebrec.utils._polars import slice_join_dataframes\n",
    "from src.ebrec.utils._behaviors import (\n",
    "    create_binary_labels_column,\n",
    "    sampling_strategy_wu2019,\n",
    "    truncate_history,\n",
    ")\n",
    "from src.ebrec.utils._constants import *\n",
    "from src.ebrec.utils._python import compute_npratio"
   ]
  },
  {
   "cell_type": "markdown",
   "metadata": {},
   "source": [
    "## Load dataset:"
   ]
  },
  {
   "cell_type": "code",
   "execution_count": 3,
   "metadata": {},
   "outputs": [],
   "source": [
    "\n",
    "PATH = Path(\"/Users/frederiknagel/Desktop/NewsRecommendation_19/ebnerd_data\")\n",
    "TRAIN_VAL_SPLIT = f\"ebnerd_small\"  # [ebnerd_demo, ebnerd_small, ebnerd_large]\n",
    "TEST_SPLIT = f\"ebnerd_testset\""
   ]
  },
  {
   "cell_type": "code",
   "execution_count": 4,
   "metadata": {},
   "outputs": [],
   "source": [
    "df_behaviors_train = df_behaviors = pl.scan_parquet(\n",
    "    PATH.joinpath(TRAIN_VAL_SPLIT, \"train\", \"behaviors.parquet\")\n",
    ")\n",
    "df_history_train = df_behaviors = pl.scan_parquet(\n",
    "    PATH.joinpath(TRAIN_VAL_SPLIT, \"train\", \"history.parquet\")\n",
    ")\n",
    "df_behaviors_val = df_behaviors = pl.scan_parquet(\n",
    "    PATH.joinpath(TRAIN_VAL_SPLIT, \"validation\", \"behaviors.parquet\")\n",
    ")\n",
    "df_history_val = df_behaviors = pl.scan_parquet(\n",
    "    PATH.joinpath(TRAIN_VAL_SPLIT, \"validation\", \"history.parquet\")\n",
    ")\n",
    "df_behaviors_test = df_behaviors = pl.scan_parquet(\n",
    "    PATH.joinpath(TEST_SPLIT, \"test\", \"behaviors.parquet\")\n",
    ")\n",
    "df_history_test = df_behaviors = pl.scan_parquet(\n",
    "    PATH.joinpath(TEST_SPLIT, \"test\", \"history.parquet\")\n",
    ")\n",
    "df_articles = pl.scan_parquet(PATH.joinpath(TEST_SPLIT, \"articles.parquet\"))"
   ]
  },
  {
   "cell_type": "markdown",
   "metadata": {},
   "source": [
    "### Check min/max time-stamps in the data-split period"
   ]
  },
  {
   "cell_type": "code",
   "execution_count": 5,
   "metadata": {},
   "outputs": [
    {
     "name": "stdout",
     "output_type": "stream",
     "text": [
      "History: shape: (1, 2)\n",
      "┌─────────────────────┬─────────────────────┐\n",
      "│ min                 ┆ max                 │\n",
      "│ ---                 ┆ ---                 │\n",
      "│ datetime[μs]        ┆ datetime[μs]        │\n",
      "╞═════════════════════╪═════════════════════╡\n",
      "│ 2023-04-27 07:00:00 ┆ 2023-05-18 06:59:59 │\n",
      "└─────────────────────┴─────────────────────┘\n",
      "Behaviors: shape: (1, 2)\n",
      "┌─────────────────────┬─────────────────────┐\n",
      "│ min                 ┆ max                 │\n",
      "│ ---                 ┆ ---                 │\n",
      "│ datetime[μs]        ┆ datetime[μs]        │\n",
      "╞═════════════════════╪═════════════════════╡\n",
      "│ 2023-05-18 07:00:01 ┆ 2023-05-25 06:59:58 │\n",
      "└─────────────────────┴─────────────────────┘\n"
     ]
    }
   ],
   "source": [
    "print(f\"History: {min_max_impression_time_history(df_history_train).collect()}\")\n",
    "print(f\"Behaviors: {min_max_impression_time_behaviors(df_behaviors_train).collect()}\")"
   ]
  },
  {
   "cell_type": "markdown",
   "metadata": {},
   "source": [
    "## Add History to Behaviors"
   ]
  },
  {
   "cell_type": "code",
   "execution_count": 6,
   "metadata": {},
   "outputs": [
    {
     "data": {
      "text/html": [
       "<div><style>\n",
       ".dataframe > thead > tr,\n",
       ".dataframe > tbody > tr {\n",
       "  text-align: right;\n",
       "  white-space: pre-wrap;\n",
       "}\n",
       "</style>\n",
       "<small>shape: (5, 2)</small><table border=\"1\" class=\"dataframe\"><thead><tr><th>user_id</th><th>article_id_fixed</th></tr><tr><td>u32</td><td>list[i32]</td></tr></thead><tbody><tr><td>13538</td><td>[9767342, 9767751, … 9769366]</td></tr><tr><td>14241</td><td>[9763401, 9763250, … 9767852]</td></tr><tr><td>20396</td><td>[9763634, 9763401, … 9769679]</td></tr><tr><td>34912</td><td>[9766722, 9759476, … 9770882]</td></tr><tr><td>37953</td><td>[9762836, 9763942, … 9769306]</td></tr></tbody></table></div>"
      ],
      "text/plain": [
       "shape: (5, 2)\n",
       "┌─────────┬───────────────────────────────┐\n",
       "│ user_id ┆ article_id_fixed              │\n",
       "│ ---     ┆ ---                           │\n",
       "│ u32     ┆ list[i32]                     │\n",
       "╞═════════╪═══════════════════════════════╡\n",
       "│ 13538   ┆ [9767342, 9767751, … 9769366] │\n",
       "│ 14241   ┆ [9763401, 9763250, … 9767852] │\n",
       "│ 20396   ┆ [9763634, 9763401, … 9769679] │\n",
       "│ 34912   ┆ [9766722, 9759476, … 9770882] │\n",
       "│ 37953   ┆ [9762836, 9763942, … 9769306] │\n",
       "└─────────┴───────────────────────────────┘"
      ]
     },
     "execution_count": 6,
     "metadata": {},
     "output_type": "execute_result"
    }
   ],
   "source": [
    "df_history = df_history_train.select(\n",
    "    DEFAULT_USER_COL, DEFAULT_HISTORY_ARTICLE_ID_COL\n",
    ").pipe(\n",
    "    truncate_history,\n",
    "    column=DEFAULT_HISTORY_ARTICLE_ID_COL,\n",
    "    history_size=30,\n",
    "    padding_value=0,\n",
    "    enable_warning=False,\n",
    ")\n",
    "df_history.head(5).collect()"
   ]
  },
  {
   "cell_type": "code",
   "execution_count": 7,
   "metadata": {},
   "outputs": [
    {
     "data": {
      "text/html": [
       "<div><style>\n",
       ".dataframe > thead > tr,\n",
       ".dataframe > tbody > tr {\n",
       "  text-align: right;\n",
       "  white-space: pre-wrap;\n",
       "}\n",
       "</style>\n",
       "<small>shape: (5, 21)</small><table border=\"1\" class=\"dataframe\"><thead><tr><th>impression_id</th><th>article_id</th><th>impression_time</th><th>read_time</th><th>scroll_percentage</th><th>device_type</th><th>article_ids_inview</th><th>article_ids_clicked</th><th>user_id</th><th>is_sso_user</th><th>gender</th><th>postcode</th><th>age</th><th>is_subscriber</th><th>session_id</th><th>next_read_time</th><th>next_scroll_percentage</th><th>impression_time_fixed</th><th>scroll_percentage_fixed</th><th>article_id_fixed</th><th>read_time_fixed</th></tr><tr><td>u32</td><td>i32</td><td>datetime[μs]</td><td>f32</td><td>f32</td><td>i8</td><td>list[i32]</td><td>list[i32]</td><td>u32</td><td>bool</td><td>i8</td><td>i8</td><td>i8</td><td>bool</td><td>u32</td><td>f32</td><td>f32</td><td>list[datetime[μs]]</td><td>list[f32]</td><td>list[i32]</td><td>list[f32]</td></tr></thead><tbody><tr><td>149474</td><td>null</td><td>2023-05-24 07:47:53</td><td>13.0</td><td>null</td><td>2</td><td>[9778623, 9778682, … 9778728]</td><td>[9778657]</td><td>139836</td><td>false</td><td>null</td><td>null</td><td>null</td><td>false</td><td>759</td><td>7.0</td><td>22.0</td><td>[2023-05-03 19:04:15, 2023-05-03 19:05:22, … 2023-05-14 19:52:58]</td><td>[100.0, 89.0, … 47.0]</td><td>[9745590, 9748574, … 9765156]</td><td>[60.0, 11.0, … 3.0]</td></tr><tr><td>150528</td><td>null</td><td>2023-05-24 07:33:25</td><td>25.0</td><td>null</td><td>2</td><td>[9778718, 9778728, … 9778682]</td><td>[9778623]</td><td>143471</td><td>false</td><td>null</td><td>null</td><td>null</td><td>false</td><td>1240</td><td>287.0</td><td>100.0</td><td>[2023-04-27 08:05:09, 2023-04-27 10:05:55, … 2023-05-18 06:56:14]</td><td>[21.0, 100.0, … 69.0]</td><td>[9737881, 9738659, … 9770989]</td><td>[7.0, 24.0, … 9.0]</td></tr><tr><td>153068</td><td>9778682</td><td>2023-05-24 07:09:04</td><td>78.0</td><td>100.0</td><td>1</td><td>[9778657, 9778669, … 9778682]</td><td>[9778669]</td><td>151570</td><td>false</td><td>null</td><td>null</td><td>null</td><td>false</td><td>1976</td><td>45.0</td><td>100.0</td><td>[2023-04-27 14:07:16, 2023-04-27 14:08:16, … 2023-05-18 06:33:24]</td><td>[100.0, null, … 100.0]</td><td>[9738303, 9738993, … 9770829]</td><td>[59.0, 1.0, … 60.0]</td></tr><tr><td>153070</td><td>9777492</td><td>2023-05-24 07:13:14</td><td>26.0</td><td>100.0</td><td>1</td><td>[9020783, 9778444, … 9778628]</td><td>[9778628]</td><td>151570</td><td>false</td><td>null</td><td>null</td><td>null</td><td>false</td><td>1976</td><td>4.0</td><td>18.0</td><td>[2023-04-27 14:07:16, 2023-04-27 14:08:16, … 2023-05-18 06:33:24]</td><td>[100.0, null, … 100.0]</td><td>[9738303, 9738993, … 9770829]</td><td>[59.0, 1.0, … 60.0]</td></tr><tr><td>153071</td><td>9778623</td><td>2023-05-24 07:11:08</td><td>125.0</td><td>100.0</td><td>1</td><td>[9777492, 9774568, … 9775990]</td><td>[9777492]</td><td>151570</td><td>false</td><td>null</td><td>null</td><td>null</td><td>false</td><td>1976</td><td>26.0</td><td>100.0</td><td>[2023-04-27 14:07:16, 2023-04-27 14:08:16, … 2023-05-18 06:33:24]</td><td>[100.0, null, … 100.0]</td><td>[9738303, 9738993, … 9770829]</td><td>[59.0, 1.0, … 60.0]</td></tr></tbody></table></div>"
      ],
      "text/plain": [
       "shape: (5, 21)\n",
       "┌───────────┬───────────┬───────────┬───────────┬───┬───────────┬───────────┬───────────┬──────────┐\n",
       "│ impressio ┆ article_i ┆ impressio ┆ read_time ┆ … ┆ impressio ┆ scroll_pe ┆ article_i ┆ read_tim │\n",
       "│ n_id      ┆ d         ┆ n_time    ┆ ---       ┆   ┆ n_time_fi ┆ rcentage_ ┆ d_fixed   ┆ e_fixed  │\n",
       "│ ---       ┆ ---       ┆ ---       ┆ f32       ┆   ┆ xed       ┆ fixed     ┆ ---       ┆ ---      │\n",
       "│ u32       ┆ i32       ┆ datetime[ ┆           ┆   ┆ ---       ┆ ---       ┆ list[i32] ┆ list[f32 │\n",
       "│           ┆           ┆ μs]       ┆           ┆   ┆ list[date ┆ list[f32] ┆           ┆ ]        │\n",
       "│           ┆           ┆           ┆           ┆   ┆ time[μs]] ┆           ┆           ┆          │\n",
       "╞═══════════╪═══════════╪═══════════╪═══════════╪═══╪═══════════╪═══════════╪═══════════╪══════════╡\n",
       "│ 149474    ┆ null      ┆ 2023-05-2 ┆ 13.0      ┆ … ┆ [2023-05- ┆ [100.0,   ┆ [9745590, ┆ [60.0,   │\n",
       "│           ┆           ┆ 4         ┆           ┆   ┆ 03        ┆ 89.0, …   ┆ 9748574,  ┆ 11.0, …  │\n",
       "│           ┆           ┆ 07:47:53  ┆           ┆   ┆ 19:04:15, ┆ 47.0]     ┆ …         ┆ 3.0]     │\n",
       "│           ┆           ┆           ┆           ┆   ┆ 2023-05-… ┆           ┆ 9765156]  ┆          │\n",
       "│ 150528    ┆ null      ┆ 2023-05-2 ┆ 25.0      ┆ … ┆ [2023-04- ┆ [21.0,    ┆ [9737881, ┆ [7.0,    │\n",
       "│           ┆           ┆ 4         ┆           ┆   ┆ 27        ┆ 100.0, …  ┆ 9738659,  ┆ 24.0, …  │\n",
       "│           ┆           ┆ 07:33:25  ┆           ┆   ┆ 08:05:09, ┆ 69.0]     ┆ …         ┆ 9.0]     │\n",
       "│           ┆           ┆           ┆           ┆   ┆ 2023-04-… ┆           ┆ 9770989]  ┆          │\n",
       "│ 153068    ┆ 9778682   ┆ 2023-05-2 ┆ 78.0      ┆ … ┆ [2023-04- ┆ [100.0,   ┆ [9738303, ┆ [59.0,   │\n",
       "│           ┆           ┆ 4         ┆           ┆   ┆ 27        ┆ null, …   ┆ 9738993,  ┆ 1.0, …   │\n",
       "│           ┆           ┆ 07:09:04  ┆           ┆   ┆ 14:07:16, ┆ 100.0]    ┆ …         ┆ 60.0]    │\n",
       "│           ┆           ┆           ┆           ┆   ┆ 2023-04-… ┆           ┆ 9770829]  ┆          │\n",
       "│ 153070    ┆ 9777492   ┆ 2023-05-2 ┆ 26.0      ┆ … ┆ [2023-04- ┆ [100.0,   ┆ [9738303, ┆ [59.0,   │\n",
       "│           ┆           ┆ 4         ┆           ┆   ┆ 27        ┆ null, …   ┆ 9738993,  ┆ 1.0, …   │\n",
       "│           ┆           ┆ 07:13:14  ┆           ┆   ┆ 14:07:16, ┆ 100.0]    ┆ …         ┆ 60.0]    │\n",
       "│           ┆           ┆           ┆           ┆   ┆ 2023-04-… ┆           ┆ 9770829]  ┆          │\n",
       "│ 153071    ┆ 9778623   ┆ 2023-05-2 ┆ 125.0     ┆ … ┆ [2023-04- ┆ [100.0,   ┆ [9738303, ┆ [59.0,   │\n",
       "│           ┆           ┆ 4         ┆           ┆   ┆ 27        ┆ null, …   ┆ 9738993,  ┆ 1.0, …   │\n",
       "│           ┆           ┆ 07:11:08  ┆           ┆   ┆ 14:07:16, ┆ 100.0]    ┆ …         ┆ 60.0]    │\n",
       "│           ┆           ┆           ┆           ┆   ┆ 2023-04-… ┆           ┆ 9770829]  ┆          │\n",
       "└───────────┴───────────┴───────────┴───────────┴───┴───────────┴───────────┴───────────┴──────────┘"
      ]
     },
     "execution_count": 7,
     "metadata": {},
     "output_type": "execute_result"
    }
   ],
   "source": [
    "df = slice_join_dataframes(\n",
    "    df1=df_behaviors_train.collect(),\n",
    "    df2=df_history_train.collect(),\n",
    "    on=DEFAULT_USER_COL,\n",
    "    how=\"left\",\n",
    ")\n",
    "df.head(5)"
   ]
  },
  {
   "cell_type": "markdown",
   "metadata": {},
   "source": [
    "## Generate labels"
   ]
  },
  {
   "cell_type": "markdown",
   "metadata": {},
   "source": [
    "Here's an example how to generate binary labels based on ``article_ids_clicked`` and ``article_ids_inview``"
   ]
  },
  {
   "cell_type": "code",
   "execution_count": 8,
   "metadata": {},
   "outputs": [
    {
     "data": {
      "text/html": [
       "<div><style>\n",
       ".dataframe > thead > tr,\n",
       ".dataframe > tbody > tr {\n",
       "  text-align: right;\n",
       "  white-space: pre-wrap;\n",
       "}\n",
       "</style>\n",
       "<small>shape: (5, 4)</small><table border=\"1\" class=\"dataframe\"><thead><tr><th>article_ids_clicked</th><th>article_ids_inview</th><th>labels</th><th>labels_len</th></tr><tr><td>list[i32]</td><td>list[i32]</td><td>list[i8]</td><td>u32</td></tr></thead><tbody><tr><td>[9778657]</td><td>[9778623, 9778657, … 9778736]</td><td>[0, 1, … 0]</td><td>6</td></tr><tr><td>[9778623]</td><td>[9778657, 9778769, … 9778669]</td><td>[0, 0, … 0]</td><td>9</td></tr><tr><td>[9778669]</td><td>[9756397, 9693002, … 9778682]</td><td>[0, 0, … 0]</td><td>7</td></tr><tr><td>[9778628]</td><td>[9778444, 9778718, … 9430567]</td><td>[0, 0, … 0]</td><td>8</td></tr><tr><td>[9777492]</td><td>[9770218, 9131971, … 9778623]</td><td>[0, 0, … 0]</td><td>9</td></tr></tbody></table></div>"
      ],
      "text/plain": [
       "shape: (5, 4)\n",
       "┌─────────────────────┬───────────────────────────────┬─────────────┬────────────┐\n",
       "│ article_ids_clicked ┆ article_ids_inview            ┆ labels      ┆ labels_len │\n",
       "│ ---                 ┆ ---                           ┆ ---         ┆ ---        │\n",
       "│ list[i32]           ┆ list[i32]                     ┆ list[i8]    ┆ u32        │\n",
       "╞═════════════════════╪═══════════════════════════════╪═════════════╪════════════╡\n",
       "│ [9778657]           ┆ [9778623, 9778657, … 9778736] ┆ [0, 1, … 0] ┆ 6          │\n",
       "│ [9778623]           ┆ [9778657, 9778769, … 9778669] ┆ [0, 0, … 0] ┆ 9          │\n",
       "│ [9778669]           ┆ [9756397, 9693002, … 9778682] ┆ [0, 0, … 0] ┆ 7          │\n",
       "│ [9778628]           ┆ [9778444, 9778718, … 9430567] ┆ [0, 0, … 0] ┆ 8          │\n",
       "│ [9777492]           ┆ [9770218, 9131971, … 9778623] ┆ [0, 0, … 0] ┆ 9          │\n",
       "└─────────────────────┴───────────────────────────────┴─────────────┴────────────┘"
      ]
     },
     "execution_count": 8,
     "metadata": {},
     "output_type": "execute_result"
    }
   ],
   "source": [
    "df.select(DEFAULT_CLICKED_ARTICLES_COL, DEFAULT_INVIEW_ARTICLES_COL).pipe(\n",
    "    create_binary_labels_column, shuffle=True, seed=123\n",
    ").with_columns(pl.col(\"labels\").list.len().name.suffix(\"_len\")).head(5)"
   ]
  },
  {
   "cell_type": "markdown",
   "metadata": {},
   "source": [
    "An example using the downsample strategy employed by Wu et al."
   ]
  },
  {
   "cell_type": "code",
   "execution_count": 9,
   "metadata": {},
   "outputs": [
    {
     "data": {
      "text/html": [
       "<div><style>\n",
       ".dataframe > thead > tr,\n",
       ".dataframe > tbody > tr {\n",
       "  text-align: right;\n",
       "  white-space: pre-wrap;\n",
       "}\n",
       "</style>\n",
       "<small>shape: (5, 4)</small><table border=\"1\" class=\"dataframe\"><thead><tr><th>article_ids_clicked</th><th>article_ids_inview</th><th>labels</th><th>labels_len</th></tr><tr><td>list[i64]</td><td>list[i64]</td><td>list[i8]</td><td>u32</td></tr></thead><tbody><tr><td>[9778657]</td><td>[9778669, 9778728, 9778657]</td><td>[0, 0, 1]</td><td>3</td></tr><tr><td>[9778623]</td><td>[9778669, 9778682, 9778623]</td><td>[0, 0, 1]</td><td>3</td></tr><tr><td>[9778669]</td><td>[9778669, 9778682, 9776259]</td><td>[1, 0, 0]</td><td>3</td></tr><tr><td>[9778628]</td><td>[7213923, 9430567, 9778628]</td><td>[0, 0, 1]</td><td>3</td></tr><tr><td>[9777492]</td><td>[9775990, 9771223, 9777492]</td><td>[0, 0, 1]</td><td>3</td></tr></tbody></table></div>"
      ],
      "text/plain": [
       "shape: (5, 4)\n",
       "┌─────────────────────┬─────────────────────────────┬───────────┬────────────┐\n",
       "│ article_ids_clicked ┆ article_ids_inview          ┆ labels    ┆ labels_len │\n",
       "│ ---                 ┆ ---                         ┆ ---       ┆ ---        │\n",
       "│ list[i64]           ┆ list[i64]                   ┆ list[i8]  ┆ u32        │\n",
       "╞═════════════════════╪═════════════════════════════╪═══════════╪════════════╡\n",
       "│ [9778657]           ┆ [9778669, 9778728, 9778657] ┆ [0, 0, 1] ┆ 3          │\n",
       "│ [9778623]           ┆ [9778669, 9778682, 9778623] ┆ [0, 0, 1] ┆ 3          │\n",
       "│ [9778669]           ┆ [9778669, 9778682, 9776259] ┆ [1, 0, 0] ┆ 3          │\n",
       "│ [9778628]           ┆ [7213923, 9430567, 9778628] ┆ [0, 0, 1] ┆ 3          │\n",
       "│ [9777492]           ┆ [9775990, 9771223, 9777492] ┆ [0, 0, 1] ┆ 3          │\n",
       "└─────────────────────┴─────────────────────────────┴───────────┴────────────┘"
      ]
     },
     "execution_count": 9,
     "metadata": {},
     "output_type": "execute_result"
    }
   ],
   "source": [
    "NPRATIO = 2\n",
    "df.select(DEFAULT_CLICKED_ARTICLES_COL, DEFAULT_INVIEW_ARTICLES_COL).pipe(\n",
    "    sampling_strategy_wu2019,\n",
    "    npratio=NPRATIO,\n",
    "    shuffle=False,\n",
    "    with_replacement=True,\n",
    "    seed=123,\n",
    ").pipe(create_binary_labels_column, shuffle=True, seed=123).with_columns(\n",
    "    pl.col(\"labels\").list.len().name.suffix(\"_len\")\n",
    ").head(\n",
    "    5\n",
    ")"
   ]
  }
 ],
 "metadata": {
  "kernelspec": {
   "display_name": "Python 3",
   "language": "python",
   "name": "python3"
  },
  "language_info": {
   "codemirror_mode": {
    "name": "ipython",
    "version": 3
   },
   "file_extension": ".py",
   "mimetype": "text/x-python",
   "name": "python",
   "nbconvert_exporter": "python",
   "pygments_lexer": "ipython3",
   "version": "3.10.6"
  }
 },
 "nbformat": 4,
 "nbformat_minor": 2
}
