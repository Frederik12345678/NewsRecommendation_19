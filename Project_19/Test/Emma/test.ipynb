{
 "cells": [
  {
   "cell_type": "markdown",
   "metadata": {},
   "source": [
    "## Initialize lib"
   ]
  },
  {
   "cell_type": "code",
   "execution_count": 44,
   "metadata": {},
   "outputs": [],
   "source": [
    "import matplotlib.pyplot as plt\n",
    "import seaborn as sns\n",
    "import pandas as pd\n",
    "import matplotlib.ticker as mticker\n",
    "from matplotlib.ticker import MaxNLocator\n",
    "from pathlib import Path\n",
    "import os\n",
    "import sys\n",
    "import polars as pl # used to read the .parquet files so its important\n",
    "import numpy as np\n",
    "import warnings\n",
    "\n",
    "# Suppress all warnings\n",
    "warnings.filterwarnings(\"ignore\")\n",
    "\n",
    "\n",
    "# Add the parent directory (or specify path to 'utils' if it's higher)\n",
    "dir = os.path.abspath(os.path.join(os.getcwd(), '..', '..')) \n",
    "sys.path.append(dir)\n",
    "\n",
    "# Now you can import from utils\n",
    "from utils import get_script_directory, compute_npratio"
   ]
  },
  {
   "cell_type": "markdown",
   "metadata": {},
   "source": [
    "## Load Data"
   ]
  },
  {
   "cell_type": "code",
   "execution_count": 37,
   "metadata": {},
   "outputs": [],
   "source": [
    "basic_path = get_script_directory()\n",
    "\n",
    "DEFAULT_IS_BEYOND_ACCURACY_COL = \"is_beyond_accuracy\"\n",
    "\n",
    "\n",
    "PATH = Path(basic_path+\"/Data\")\n",
    "TRAIN_VAL_SPLIT = f\"ebnerd_small\"  # [ebnerd_demo, ebnerd_small, ebnerd_large]\n",
    "TEST_SPLIT = f\"ebnerd_testset\"  # \"ebnerd_testset\", \"ebnerd_testset_gt\"\n",
    "\n",
    "#_____________________Training____________________________\n",
    "# Reads the behaviors file from training data\n",
    "df_behaviors_train = df_behaviors = pl.scan_parquet(\n",
    "    PATH.joinpath(TRAIN_VAL_SPLIT, \"train\", \"behaviors.parquet\")\n",
    ")\n",
    "# Reads the history file from training data\n",
    "df_history_train = df_behaviors = pl.scan_parquet(\n",
    "    PATH.joinpath(TRAIN_VAL_SPLIT, \"train\", \"history.parquet\")\n",
    ")\n",
    "\n",
    "#_____________________Validation____________________________\n",
    "# Reads the behaviors file from Validation data\n",
    "df_behaviors_val = df_behaviors = pl.scan_parquet(\n",
    "    PATH.joinpath(TRAIN_VAL_SPLIT, \"validation\", \"behaviors.parquet\")\n",
    ")\n",
    "# Reads the History file from Validation data\n",
    "df_history_val = df_behaviors = pl.scan_parquet(\n",
    "    PATH.joinpath(TRAIN_VAL_SPLIT, \"validation\", \"history.parquet\")\n",
    ")\n",
    "\n",
    "#_____________________Test____________________________\n",
    "# Reads the behaviors file from test data\n",
    "df_behaviors_test = df_behaviors = (\n",
    "    pl.scan_parquet(PATH.joinpath(TEST_SPLIT, \"test\", \"behaviors.parquet\"))\n",
    "    .filter(~pl.col(DEFAULT_IS_BEYOND_ACCURACY_COL))\n",
    "    .drop(DEFAULT_IS_BEYOND_ACCURACY_COL)\n",
    ")\n",
    "# Reads the History file from test data\n",
    "df_history_test = df_behaviors = pl.scan_parquet(\n",
    "    PATH.joinpath(TEST_SPLIT, \"test\", \"history.parquet\")\n",
    ")\n",
    "\n",
    "# ?? seem we already read this file ? but now without .drop(DEFAULT_IS_BEYOND_ACCURACY_COL)\n",
    "df_behaviors_test_ba = df_behaviors = pl.scan_parquet(\n",
    "    PATH.joinpath(TEST_SPLIT, \"test\", \"behaviors.parquet\")\n",
    ").filter(pl.col(DEFAULT_IS_BEYOND_ACCURACY_COL))\n",
    "\n",
    "#_____________________Reads Articles ??____________________________\n",
    "df_articles = pl.scan_parquet(PATH.joinpath(TEST_SPLIT,\"articles.parquet\")).collect()\n",
    "\n",
    "PLOT_PATH = Path(\"plot\")"
   ]
  },
  {
   "cell_type": "markdown",
   "metadata": {},
   "source": [
    "## Examine Size of dataset"
   ]
  },
  {
   "cell_type": "code",
   "execution_count": 38,
   "metadata": {},
   "outputs": [
    {
     "name": "stdout",
     "output_type": "stream",
     "text": [
      "____________Behavior:_____________\n",
      "column names: \n",
      " ['impression_id', 'article_id', 'impression_time', 'read_time', 'scroll_percentage', 'device_type', 'article_ids_inview', 'article_ids_clicked', 'user_id', 'is_sso_user', 'gender', 'postcode', 'age', 'is_subscriber', 'session_id', 'next_read_time', 'next_scroll_percentage']\n",
      "Training:     (232887, 17)\n",
      "Validation :  (244647, 17)\n",
      "Test :  (13336710, 13)\n",
      "['impression_id', 'impression_time', 'read_time', 'scroll_percentage', 'device_type', 'article_ids_inview', 'user_id', 'is_sso_user', 'gender', 'postcode', 'age', 'is_subscriber', 'session_id']\n",
      "\n",
      "____________History:_____________\n",
      "column names: \n",
      " ['user_id', 'impression_time_fixed', 'scroll_percentage_fixed', 'article_id_fixed', 'read_time_fixed']\n",
      "Training:     (15143, 5)\n",
      "Validation :  (15342, 5)\n",
      "Test :  (807677, 5)\n",
      "\n",
      "____________?????:_____________\n",
      "['article_id', 'title', 'subtitle', 'last_modified_time', 'premium', 'body', 'published_time', 'image_ids', 'article_type', 'url', 'ner_clusters', 'entity_groups', 'topics', 'category', 'subcategory', 'category_str', 'total_inviews', 'total_pageviews', 'total_read_time', 'sentiment_score', 'sentiment_label']\n",
      "Articles :  (125541, 21)\n",
      "Behavior_ba :  (200000, 14)\n"
     ]
    }
   ],
   "source": [
    "#_______________ Behavior: ___________________________\n",
    "print(\"____________Behavior:_____________\")\n",
    "# Collect the schema first to avoid performance warning\n",
    "schema = df_behaviors_train.collect_schema()\n",
    "print(\"column names: \\n\" , schema.names())  # This will print the column names without the warning\n",
    "\n",
    "df_train_behave = df_behaviors_train.collect()\n",
    "print(\"Training:    \",df_train_behave.shape)\n",
    "\n",
    "df_val_behave = df_behaviors_val.collect()\n",
    "print(\"Validation : \",df_val_behave.shape)\n",
    "\n",
    "df_test_behave = df_behaviors_test.collect() # Nok et test set til det sore dataset\n",
    "print(\"Test : \",df_test_behave.shape)\n",
    "\n",
    "print(df_behaviors_test.columns)\n",
    "\n",
    "\n",
    "print(\"\")\n",
    "print(\"____________History:_____________\")\n",
    "# Collect the schema first to avoid performance warning\n",
    "schema = df_history_train.collect_schema()\n",
    "print(\"column names: \\n\" , schema.names())  # This will print the column names without the warning\n",
    "\n",
    "df_train_hist = df_history_train.collect()\n",
    "print(\"Training:    \",df_train_hist.shape)\n",
    "\n",
    "df_val_hist = df_history_val.collect()\n",
    "print(\"Validation : \",df_val_hist.shape)\n",
    "\n",
    "df_test_hist = df_history_test.collect() # Nok et test set til det sore dataset\n",
    "print(\"Test : \",df_test_hist.shape)\n",
    "\n",
    "print(\"\")\n",
    "print(\"____________?????:_____________\")\n",
    "print(df_articles.columns)\n",
    "print(\"Articles : \",df_articles.shape)\n",
    "\n",
    "df_test_behave_ba = df_behaviors_test_ba.collect() # Nok et test set til det sore dataset\n",
    "print(\"Behavior_ba : \",df_test_behave_ba.shape)\n"
   ]
  },
  {
   "cell_type": "markdown",
   "metadata": {},
   "source": [
    "## Descriptive analysis"
   ]
  },
  {
   "cell_type": "code",
   "execution_count": 41,
   "metadata": {},
   "outputs": [
    {
     "name": "stdout",
     "output_type": "stream",
     "text": [
      "# Number of unique articles: 125541\n",
      "# number of unique users: 18827\n",
      "# number of unique news categories: 32\n",
      "# total number of impressions: 477534\n",
      "# number of History Interactions: 3274796\n",
      "# Total dataset interactions (Impressions + History): 3752330\n",
      "# number of unique subcategories: 263\n",
      "# number of Positive interactions: 480566\n",
      "# number of Nagative interactions: 5034123\n",
      "negative-positive-ratio: 10.48\n",
      "Avg. impression per user: 25.36\n",
      "Avg. title len. (words): 6.6\n",
      "Std. title len. (words): 2.5\n",
      "Avg. abstract len. (words): 17.3\n",
      "Std. abstract len. (words): 8.64\n",
      "Avg. body len. (words): 363.23\n",
      "Std. body len. (words): 306.17\n",
      "# number of SSO users: 1050\n",
      "# number of Subscriber users: 525\n"
     ]
    }
   ],
   "source": [
    "# Define constants for column names used in DataFrames\n",
    "DEFAULT_CLICKED_ARTICLES_COL = \"article_ids_clicked\"\n",
    "DEFAULT_INVIEW_ARTICLES_COL = \"article_ids_inview\"\n",
    "DEFAULT_USER_COL = \"user_id\"\n",
    "DEFAULT_IS_SSO_USER_COL = \"is_sso_user\"\n",
    "DEFAULT_IS_SUBSCRIBER_COL = \"is_subscriber\"\n",
    "DEFAULT_ARTICLE_ID_COL = \"article_id\"\n",
    "DEFAULT_CATEGORY_COL = \"category\"\n",
    "DEFAULT_SUBCATEGORY_COL = \"subcategory\"\n",
    "N_WORDS_BODY = \"body_len\"\n",
    "N_WORDS_TITLE = \"title_len\"\n",
    "N_WORDS_SUBTITLE = \"subtitle_len\"\n",
    "TIME_HIST_COL = \"impression_time_fixed\"\n",
    "N_INVIEW_ARTICLES = \"inview_len\"\n",
    "\n",
    "# Function to add a word count column to a DataFrame\n",
    "def add_word_count_column(df: pl.DataFrame, column: str, column_alias: str) -> pl.DataFrame:\n",
    "    return df.with_columns(\n",
    "        pl.when(pl.col(column) != \"\")  # Check if the column is not empty\n",
    "        .then(pl.col(column).str.split(by=\" \").list.len())  # Split string by spaces and get the length\n",
    "        .otherwise(0)  # If empty, set the count to 0\n",
    "        .alias(column_alias)  # Rename the new column\n",
    "    )\n",
    "\n",
    "# If the clicked articles column does not exist in the test DataFrame, create it\n",
    "if DEFAULT_CLICKED_ARTICLES_COL not in df_behaviors_test.columns:\n",
    "    # Initialize the clicked articles column as a list of empty integers for each row\n",
    "    df_behaviors_test = df_behaviors_test.with_columns(\n",
    "        pl.Series(DEFAULT_CLICKED_ARTICLES_COL, [[0]], dtype=pl.List(pl.Int32))\n",
    "    )\n",
    "\n",
    "# Concatenate training and validation behavior DataFrames, adding a column for the number of in-view articles\n",
    "df_behaviors = pl.concat(\n",
    "    [df_behaviors_train, df_behaviors_val]  # Note: df_behaviors_test has been removed\n",
    ").with_columns(pl.col(DEFAULT_INVIEW_ARTICLES_COL).list.len().alias(N_INVIEW_ARTICLES))\n",
    "\n",
    "# Concatenate the history DataFrames into one DataFrame \n",
    "df_history = pl.concat([df_history_train, df_history_val]) # Note: df_history_val_test has been removed\n",
    "\n",
    "# Create a DataFrame of unique history interactions per user with their impression times\n",
    "df_history_unique_hist_interactions = (\n",
    "    df_history.select(DEFAULT_USER_COL, pl.col(TIME_HIST_COL))  # Select user and time columns\n",
    "    .explode(TIME_HIST_COL)  # Explode the time column to separate each time entry\n",
    "    .group_by(DEFAULT_USER_COL)  # Group by user ID\n",
    "    .agg(pl.col(TIME_HIST_COL).unique())  # Aggregate by getting unique time entries\n",
    "    .collect()  # Collect results into a DataFrame\n",
    ")\n",
    "\n",
    "# Calculate word counts for article titles, subtitles, and body using the defined function\n",
    "df_articles = (\n",
    "    df_articles.pipe(add_word_count_column, column=\"title\", column_alias=N_WORDS_TITLE)\n",
    "    .pipe(add_word_count_column, column=\"subtitle\", column_alias=N_WORDS_SUBTITLE)\n",
    "    .pipe(add_word_count_column, column=\"body\", column_alias=N_WORDS_BODY)\n",
    ")\n",
    "\n",
    "# Calculate the number of positive interactions (clicked articles)\n",
    "n_pos = (\n",
    "    df_behaviors.select(pl.col(DEFAULT_CLICKED_ARTICLES_COL).list.len()).sum().collect()\n",
    ")[DEFAULT_CLICKED_ARTICLES_COL][0]\n",
    "\n",
    "# Calculate the number of negative interactions (in-view articles minus clicked articles)\n",
    "n_neg = (\n",
    "    df_behaviors.select(\n",
    "        pl.col(DEFAULT_INVIEW_ARTICLES_COL).list.len()\n",
    "        - pl.col(DEFAULT_CLICKED_ARTICLES_COL).list.len()\n",
    "    )\n",
    "    .sum()\n",
    "    .collect()\n",
    ")[DEFAULT_INVIEW_ARTICLES_COL][0]\n",
    "\n",
    "# Count samples in the user's history based on unique impression times\n",
    "n_samples_in_history = df_history_unique_hist_interactions.select(\n",
    "    pl.col(TIME_HIST_COL).list.len()\n",
    ").sum()[TIME_HIST_COL][0]\n",
    "\n",
    "# Count the total number of impressions\n",
    "n_impressions = df_behaviors.select(DEFAULT_USER_COL).collect().shape[0]\n",
    "\n",
    "# Count the number of unique users\n",
    "n_users = df_behaviors.select(DEFAULT_USER_COL).unique().collect().shape[0]\n",
    "\n",
    "# Count the number of unique SSO users\n",
    "n_sso_users = (\n",
    "    df_behaviors.select(DEFAULT_USER_COL, DEFAULT_IS_SSO_USER_COL)\n",
    "    .unique()\n",
    "    .select(pl.col(DEFAULT_IS_SSO_USER_COL))\n",
    "    .sum()\n",
    "    .collect()[DEFAULT_IS_SSO_USER_COL][0]\n",
    ")\n",
    "\n",
    "# Count the number of unique subscriber users\n",
    "n_subscriber_users = (\n",
    "    df_behaviors.select(DEFAULT_USER_COL, DEFAULT_IS_SUBSCRIBER_COL)\n",
    "    .unique()\n",
    "    .sum()\n",
    "    .collect()[DEFAULT_IS_SUBSCRIBER_COL][0]\n",
    ")\n",
    "\n",
    "# Count the number of unique articles\n",
    "n_articles = df_articles.select(DEFAULT_ARTICLE_ID_COL).unique().shape[0]\n",
    "\n",
    "# Count the number of unique news categories\n",
    "n_categories = df_articles.select(DEFAULT_CATEGORY_COL).unique().shape[0]\n",
    "\n",
    "# Count the number of unique subcategories\n",
    "n_subcategories = (\n",
    "    df_articles.select(pl.col(DEFAULT_SUBCATEGORY_COL).explode()).unique().shape[0]\n",
    ")\n",
    "\n",
    "# Create a descriptive dictionary to summarize statistics about the dataset\n",
    "descriptive_dict = {\n",
    "    f\"# Number of unique articles\": n_articles,\n",
    "    f\"# number of unique users\": n_users,\n",
    "    f\"# number of unique news categories\": n_categories,\n",
    "    f\"# total number of impressions\": n_impressions,\n",
    "    f\"# number of History Interactions\": n_samples_in_history,\n",
    "    f\"# Total dataset interactions (Impressions + History)\": n_impressions\n",
    "    + n_samples_in_history,\n",
    "    f\"# number of unique subcategories\": n_subcategories,\n",
    "    f\"# number of Positive interactions\": n_pos,\n",
    "    f\"# number of Nagative interactions\": n_neg,\n",
    "    f\"negative-positive-ratio\": round(compute_npratio(n_pos=n_pos, n_neg=n_neg), 2),\n",
    "    f\"Avg. impression per user\": round(n_impressions / n_users, 2),\n",
    "    f\"Avg. title len. (words)\": round(\n",
    "        df_articles.select(pl.col(N_WORDS_TITLE)).mean()[N_WORDS_TITLE][0], 2\n",
    "    ),\n",
    "    f\"Std. title len. (words)\": round(\n",
    "        df_articles.select(pl.col(N_WORDS_TITLE)).std()[N_WORDS_TITLE][0], 2\n",
    "    ),\n",
    "    f\"Avg. abstract len. (words)\": round(\n",
    "        df_articles.select(pl.col(N_WORDS_SUBTITLE)).mean()[N_WORDS_SUBTITLE][0],\n",
    "        2,\n",
    "    ),\n",
    "    f\"Std. abstract len. (words)\": round(\n",
    "        df_articles.select(pl.col(N_WORDS_SUBTITLE)).std()[N_WORDS_SUBTITLE][0],\n",
    "        2,\n",
    "    ),\n",
    "    f\"Avg. body len. (words)\": round(\n",
    "        df_articles.select(pl.col(N_WORDS_BODY)).mean()[N_WORDS_BODY][0],\n",
    "        2,\n",
    "    ),\n",
    "    f\"Std. body len. (words)\": round(\n",
    "        df_articles.select(pl.col(N_WORDS_BODY)).std()[N_WORDS_BODY][0],\n",
    "        2,\n",
    "    ),\n",
    "    f\"# number of SSO users\": n_sso_users,\n",
    "    f\"# number of Subscriber users\": n_subscriber_users,\n",
    "}\n",
    "\n",
    "# Print each item in the descriptive dictionary\n",
    "_ = [print(f\"{key}: {value}\") for key, value in descriptive_dict.items()]\n"
   ]
  },
  {
   "cell_type": "markdown",
   "metadata": {},
   "source": [
    "## Overlap"
   ]
  },
  {
   "cell_type": "code",
   "execution_count": null,
   "metadata": {},
   "outputs": [
    {
     "name": "stdout",
     "output_type": "stream",
     "text": [
      "Train-Val overlap: 80.43%\n"
     ]
    }
   ],
   "source": [
    "def compute_overlap(df1, df2):\n",
    "    # Concatenate the two DataFrames and get unique rows\n",
    "    df_concat = pl.concat([df1, df2]).unique().shape[0]\n",
    "    \n",
    "    # Calculate the overlap as the ratio of the number of rows in df1 to the number of unique rows in the concatenated DataFrame\n",
    "    return df1.shape[0] / df_concat\n",
    "\n",
    "# Select unique users from the training DataFrame and collect them into a DataFrame\n",
    "users_train = df_behaviors_train.select(pl.col(DEFAULT_USER_COL).unique()).collect()\n",
    "\n",
    "# Select unique users from the validation DataFrame and collect them into a DataFrame\n",
    "users_valid = df_behaviors_val.select(pl.col(DEFAULT_USER_COL).unique()).collect()\n",
    "\n",
    "# Calculate the overlap between the unique users in the training and validation sets\n",
    "train_val = compute_overlap(users_train, users_valid)\n",
    "\n",
    "# Print the percentage of overlap between the training and validation user sets\n",
    "print(f\"Train-Val overlap: {np.round(train_val * 100, 2)}%\")\n",
    "\n",
    "# 80% overlap ??? that seems high"
   ]
  },
  {
   "cell_type": "markdown",
   "metadata": {},
   "source": [
    "## Gender "
   ]
  },
  {
   "cell_type": "code",
   "execution_count": null,
   "metadata": {},
   "outputs": [
    {
     "name": "stdout",
     "output_type": "stream",
     "text": [
      "Users with 'gender' in total dataset: 669, where 567 are men (84.75%) and 102 are women (15.25%)\n"
     ]
    }
   ],
   "source": [
    "DEFAULT_GENDER_COL = \"gender\"\n",
    "gender_total = (\n",
    "    df_behaviors.select(DEFAULT_USER_COL, DEFAULT_GENDER_COL)\n",
    "    .drop_nulls()\n",
    "    .group_by(DEFAULT_USER_COL)\n",
    "    .agg(pl.col(DEFAULT_GENDER_COL).first())\n",
    "    .collect()\n",
    ")\n",
    "m_total = gender_total.filter(pl.col(DEFAULT_GENDER_COL) == 0).shape[0]\n",
    "w_total = gender_total.filter(pl.col(DEFAULT_GENDER_COL) == 1).shape[0]\n",
    "m_w_total = m_total + w_total\n",
    "print(\n",
    "    f\"Users with 'gender' in total dataset: {m_w_total}, where {m_total} are men ({round(m_total/m_w_total*100, 2)}%) and {w_total} are women ({round(w_total/m_w_total*100, 2)}%)\"\n",
    ")\n",
    "\n",
    "# This seems rather extreem as well..."
   ]
  },
  {
   "cell_type": "markdown",
   "metadata": {},
   "source": [
    "## Histogram of title word count in df_article"
   ]
  },
  {
   "cell_type": "code",
   "execution_count": 56,
   "metadata": {},
   "outputs": [
    {
     "data": {
      "image/png": "[encoded data removed]",
      "text/plain": [
       "<Figure size 1800x1400 with 1 Axes>"
      ]
     },
     "metadata": {},
     "output_type": "display_data"
    }
   ],
   "source": [
    "# Define a color for the histogram bars\n",
    "EB_COLOR = \"#bd1118\"\n",
    "# Set the font size for plotting\n",
    "FONTSIZE = 20\n",
    "\n",
    "def save_figure(fig, save_path: str = None) -> None:\n",
    "    # If a save path is provided, save the figure to that path\n",
    "    if save_path is not None:\n",
    "        path = Path(save_path)  # Convert the save path to a Path object\n",
    "        path.parent.mkdir(parents=True, exist_ok=True)  # Create any necessary directories\n",
    "        fig.savefig(path, dpi=300)  # Save the figure with a resolution of 300 DPI\n",
    "\n",
    "def plot_histogram(\n",
    "    df: pl.DataFrame,  # Input DataFrame containing the data to plot\n",
    "    column_name: str = None,  # Name of the column to plot\n",
    "    stat: str = \"density\",  # Type of statistic to plot (e.g., density)\n",
    "    save_path: str = None,  # Path to save the plot\n",
    "    x_max: int = None,  # Maximum x-axis value\n",
    "    y_max: int = None,  # Maximum y-axis value\n",
    "    binwidth: int = None,  # Width of the bins for the histogram\n",
    "    num_xticks: int = None,  # Number of ticks on the x-axis\n",
    "    num_yticks: int = None,  # Number of ticks on the y-axis\n",
    "    fontsize: int = 12,  # Font size for labels\n",
    "    bins: int = \"auto\",  # Number of bins; default is automatic\n",
    ") -> None:\n",
    "    # Create a new figure and axes for the histogram\n",
    "    fig, ax = plt.subplots(figsize=(18, 14))\n",
    "    # Set the theme for the seaborn plot\n",
    "    sns.set_theme(style=\"whitegrid\", font_scale=fontsize / 12)\n",
    "    \n",
    "    # Create the histogram using seaborn\n",
    "    sns.histplot(\n",
    "        data=df,\n",
    "        x=column_name,  # Column to be plotted on the x-axis\n",
    "        color=EB_COLOR,  # Set the color of the histogram bars\n",
    "        binwidth=binwidth,  # Set the bin width\n",
    "        alpha=0.5,  # Set the transparency of the bars\n",
    "        stat=stat,  # Set the statistic type for the histogram\n",
    "        bins=bins,  # Set the number of bins\n",
    "    )\n",
    "    \n",
    "    # Set x-axis limits if specified\n",
    "    if x_max is not None:\n",
    "        ax.set_xlim([0, x_max])\n",
    "    # Set y-axis limits if specified\n",
    "    if y_max is not None:\n",
    "        ax.set_ylim([0, y_max])\n",
    "    \n",
    "    # Format y-axis labels for better readability\n",
    "    ax.yaxis.set_major_formatter(mticker.ScalarFormatter(useMathText=True))\n",
    "    # Set x-axis ticks\n",
    "    ax.xaxis.set_major_locator(MaxNLocator(integer=True, nbins=num_xticks))\n",
    "    # Set y-axis ticks if specified\n",
    "    if num_yticks is not None:\n",
    "        ax.yaxis.set_major_locator(MaxNLocator(nbins=num_yticks, prune=\"lower\"))\n",
    "\n",
    "    # Add a grid to the x-axis\n",
    "    plt.grid(axis=\"x\")\n",
    "    plt.title(\"\")  # Clear the title\n",
    "    plt.xlabel(\"\")  # Clear the x-axis label\n",
    "    plt.ylabel(stat.capitalize())  # Set the y-axis label based on the statistic\n",
    "    plt.ticklabel_format(style=\"sci\", axis=\"y\", scilimits=(0, 0))  # Format y-axis for scientific notation\n",
    "    plt.tight_layout()  # Adjust the layout to fit all elements\n",
    "    save_figure(fig, save_path=save_path)  # Save the figure using the save_figure function\n",
    "    plt.show()  # Display the plot\n",
    "\n",
    "# Call the plot_histogram function to plot the histogram for titles with word counts <= 18\n",
    "plot_histogram(\n",
    "    df_articles.filter(pl.col(N_WORDS_TITLE) <= 30).select(N_WORDS_TITLE),  # Filter and select the relevant data\n",
    "    num_xticks=4,  # Set the number of x-ticks\n",
    "    num_yticks=3,  # Set the number of y-ticks\n",
    "    fontsize=FONTSIZE,  # Set the font size for the plot\n",
    "    binwidth=1,  # Set the width of the histogram bins\n",
    "    column_name=N_WORDS_TITLE,  # Specify the column to plot\n",
    "    save_path=PLOT_PATH.joinpath(N_WORDS_TITLE + \".png\"),  # Specify the save path for the plot\n",
    ")\n"
   ]
  },
  {
   "cell_type": "markdown",
   "metadata": {},
   "source": [
    "## Histogram of subtitle word count in df_article"
   ]
  },
  {
   "cell_type": "code",
   "execution_count": 59,
   "metadata": {},
   "outputs": [
    {
     "data": {
      "image/png": "[encoded data removed]",
      "text/plain": [
       "<Figure size 1800x1400 with 1 Axes>"
      ]
     },
     "metadata": {},
     "output_type": "display_data"
    }
   ],
   "source": [
    "plot_histogram(\n",
    "    df_articles.filter(pl.col(N_WORDS_SUBTITLE) <= 50).select(N_WORDS_SUBTITLE),\n",
    "    num_xticks=8,\n",
    "    num_yticks=4,\n",
    "    fontsize=FONTSIZE,\n",
    "    binwidth=1,\n",
    "    column_name=N_WORDS_SUBTITLE,\n",
    "    save_path=PLOT_PATH.joinpath(N_WORDS_SUBTITLE + \".png\"),\n",
    ")"
   ]
  },
  {
   "cell_type": "markdown",
   "metadata": {},
   "source": [
    "## Histogram of Body text word count in df_article"
   ]
  },
  {
   "cell_type": "code",
   "execution_count": 60,
   "metadata": {},
   "outputs": [
    {
     "data": {
      "image/png": "[encoded data removed]",
      "text/plain": [
       "<Figure size 1800x1400 with 1 Axes>"
      ]
     },
     "metadata": {},
     "output_type": "display_data"
    }
   ],
   "source": [
    "plot_histogram(\n",
    "    df_articles.filter(pl.col(N_WORDS_BODY) <= 1200).select(N_WORDS_BODY),\n",
    "    num_xticks=10,\n",
    "    num_yticks=5,\n",
    "    fontsize=FONTSIZE,\n",
    "    bins=70,\n",
    "    binwidth=None,\n",
    "    column_name=N_WORDS_BODY,\n",
    "    save_path=PLOT_PATH.joinpath(N_WORDS_BODY + \".png\"),\n",
    ")"
   ]
  },
  {
   "cell_type": "markdown",
   "metadata": {},
   "source": [
    "## Note to histograms:\n",
    "\n",
    "for subtitle word count and body word count wehave a lot of articles with very very little words in their word count... whats up with that?"
   ]
  },
  {
   "cell_type": "markdown",
   "metadata": {},
   "source": []
  },
  {
   "cell_type": "code",
   "execution_count": 65,
   "metadata": {},
   "outputs": [
    {
     "data": {
      "text/html": [
       "<div><style>\n",
       ".dataframe > thead > tr,\n",
       ".dataframe > tbody > tr {\n",
       "  text-align: right;\n",
       "  white-space: pre-wrap;\n",
       "}\n",
       "</style>\n",
       "<small>shape: (10, 2)</small><table border=\"1\" class=\"dataframe\"><thead><tr><th>category_str</th><th>count</th></tr><tr><td>str</td><td>u32</td></tr></thead><tbody><tr><td>&quot;nyheder&quot;</td><td>27876</td></tr><tr><td>&quot;underholdning&quot;</td><td>24909</td></tr><tr><td>&quot;krimi&quot;</td><td>22579</td></tr><tr><td>&quot;sport&quot;</td><td>18767</td></tr><tr><td>&quot;side9&quot;</td><td>4628</td></tr><tr><td>&quot;forbrug&quot;</td><td>4328</td></tr><tr><td>&quot;sex_og_samliv&quot;</td><td>4030</td></tr><tr><td>&quot;musik&quot;</td><td>3641</td></tr><tr><td>&quot;auto&quot;</td><td>3513</td></tr><tr><td>&quot;nationen&quot;</td><td>3363</td></tr></tbody></table></div>"
      ],
      "text/plain": [
       "shape: (10, 2)\n",
       "┌───────────────┬───────┐\n",
       "│ category_str  ┆ count │\n",
       "│ ---           ┆ ---   │\n",
       "│ str           ┆ u32   │\n",
       "╞═══════════════╪═══════╡\n",
       "│ nyheder       ┆ 27876 │\n",
       "│ underholdning ┆ 24909 │\n",
       "│ krimi         ┆ 22579 │\n",
       "│ sport         ┆ 18767 │\n",
       "│ side9         ┆ 4628  │\n",
       "│ forbrug       ┆ 4328  │\n",
       "│ sex_og_samliv ┆ 4030  │\n",
       "│ musik         ┆ 3641  │\n",
       "│ auto          ┆ 3513  │\n",
       "│ nationen      ┆ 3363  │\n",
       "└───────────────┴───────┘"
      ]
     },
     "execution_count": 65,
     "metadata": {},
     "output_type": "execute_result"
    }
   ],
   "source": [
    "DEFAULT_CATEGORY_STR_COL = \"category_str\"\n",
    "df_articles[DEFAULT_CATEGORY_STR_COL].value_counts(sort=True).head(10)"
   ]
  },
  {
   "cell_type": "code",
   "execution_count": 72,
   "metadata": {},
   "outputs": [
    {
     "data": {
      "text/html": [
       "<div><style>\n",
       ".dataframe > thead > tr,\n",
       ".dataframe > tbody > tr {\n",
       "  text-align: right;\n",
       "  white-space: pre-wrap;\n",
       "}\n",
       "</style>\n",
       "<small>shape: (33, 3)</small><table border=\"1\" class=\"dataframe\"><thead><tr><th>category_str</th><th>count</th><th>count_cum_sum</th></tr><tr><td>str</td><td>f64</td><td>f64</td></tr></thead><tbody><tr><td>&quot;nyheder&quot;</td><td>0.222047</td><td>0.222047</td></tr><tr><td>&quot;underholdning&quot;</td><td>0.198413</td><td>0.42046</td></tr><tr><td>&quot;krimi&quot;</td><td>0.179854</td><td>0.600314</td></tr><tr><td>&quot;sport&quot;</td><td>0.149489</td><td>0.749803</td></tr><tr><td>&quot;side9&quot;</td><td>0.036864</td><td>0.786667</td></tr><tr><td>&hellip;</td><td>&hellip;</td><td>&hellip;</td></tr><tr><td>&quot;podcast&quot;</td><td>0.00004</td><td>0.999968</td></tr><tr><td>&quot;abonnement&quot;</td><td>0.000008</td><td>0.999976</td></tr><tr><td>&quot;webmaster-test-sektion&quot;</td><td>0.000008</td><td>0.999984</td></tr><tr><td>&quot;migration_catalog&quot;</td><td>0.000008</td><td>0.999992</td></tr><tr><td>&quot;rssfeed&quot;</td><td>0.000008</td><td>1.0</td></tr></tbody></table></div>"
      ],
      "text/plain": [
       "shape: (33, 3)\n",
       "┌────────────────────────┬──────────┬───────────────┐\n",
       "│ category_str           ┆ count    ┆ count_cum_sum │\n",
       "│ ---                    ┆ ---      ┆ ---           │\n",
       "│ str                    ┆ f64      ┆ f64           │\n",
       "╞════════════════════════╪══════════╪═══════════════╡\n",
       "│ nyheder                ┆ 0.222047 ┆ 0.222047      │\n",
       "│ underholdning          ┆ 0.198413 ┆ 0.42046       │\n",
       "│ krimi                  ┆ 0.179854 ┆ 0.600314      │\n",
       "│ sport                  ┆ 0.149489 ┆ 0.749803      │\n",
       "│ side9                  ┆ 0.036864 ┆ 0.786667      │\n",
       "│ …                      ┆ …        ┆ …             │\n",
       "│ podcast                ┆ 0.00004  ┆ 0.999968      │\n",
       "│ abonnement             ┆ 0.000008 ┆ 0.999976      │\n",
       "│ webmaster-test-sektion ┆ 0.000008 ┆ 0.999984      │\n",
       "│ migration_catalog      ┆ 0.000008 ┆ 0.999992      │\n",
       "│ rssfeed                ┆ 0.000008 ┆ 1.0           │\n",
       "└────────────────────────┴──────────┴───────────────┘"
      ]
     },
     "execution_count": 72,
     "metadata": {},
     "output_type": "execute_result"
    }
   ],
   "source": [
    "df_category = (\n",
    "    df_articles[DEFAULT_CATEGORY_STR_COL]\n",
    "    .value_counts(sort=True)\n",
    "    .with_columns(pl.col(\"count\") / pl.col(\"count\").sum())\n",
    ")\n",
    "df_category.with_columns(pl.col(\"count\").cum_sum().name.suffix(\"_cum_sum\"))\n",
    "\n",
    "# count column is the percentage of articles with given topic\n",
    "\n",
    "# count_com_sum is the cumulative som of the percentages. So \"nyheder\" and \"underholdning\" makes up 42% of all the articles.\n",
    "\n"
   ]
  }
 ],
 "metadata": {
  "kernelspec": {
   "display_name": "Python 3",
   "language": "python",
   "name": "python3"
  },
  "language_info": {
   "codemirror_mode": {
    "name": "ipython",
    "version": 3
   },
   "file_extension": ".py",
   "mimetype": "text/x-python",
   "name": "python",
   "nbconvert_exporter": "python",
   "pygments_lexer": "ipython3",
   "version": "3.10.6"
  }
 },
 "nbformat": 4,
 "nbformat_minor": 2
}
